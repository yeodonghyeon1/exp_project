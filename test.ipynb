{
 "cells": [
  {
   "cell_type": "code",
   "execution_count": 1,
   "metadata": {},
   "outputs": [],
   "source": [
    "import ultralytics\n",
    "from ultralytics import YOLO\n",
    "from ultralytics.yolo.utils.checks import check_yaml\n",
    "from ultralytics.yolo.utils import ROOT, yaml_load\n"
   ]
  },
  {
   "cell_type": "code",
   "execution_count": 2,
   "metadata": {},
   "outputs": [],
   "source": [
    "model = YOLO('D:/ultralytics-main/code/runs/detect/train23/weights/best.pt')\n"
   ]
  },
  {
   "cell_type": "code",
   "execution_count": 3,
   "metadata": {},
   "outputs": [],
   "source": [
    "classes = yaml_load(check_yaml('D:/ultralytics-main/figure_find/data.yaml'))['names']"
   ]
  },
  {
   "cell_type": "code",
   "execution_count": 4,
   "metadata": {},
   "outputs": [],
   "source": [
    "def gen(result):\n",
    "    results = yield result\n",
    "    return results"
   ]
  },
  {
   "cell_type": "code",
   "execution_count": 5,
   "metadata": {},
   "outputs": [],
   "source": [
    "def convert(head, size, box):\n",
    "    dw = 1./size[0]\n",
    "    dh = 1./size[1]\n",
    "    x = (box[0] + box[2])/2.0\n",
    "    y = (box[1] + box[3])/2.0\n",
    "    w = box[2] - box[0]\n",
    "    h = box[3] - box[1]\n",
    "    x = x*dw\n",
    "    w = w*dw\n",
    "    y = y*dh\n",
    "    h = h*dh\n",
    "    return (head, x,y,w,h)"
   ]
  },
  {
   "cell_type": "code",
   "execution_count": 12,
   "metadata": {},
   "outputs": [
    {
     "name": "stderr",
     "output_type": "stream",
     "text": [
      "\n"
     ]
    },
    {
     "name": "stdout",
     "output_type": "stream",
     "text": [
      "[[184 184 184 ... 168 168 168]\n",
      " [184 184 184 ... 166 166 166]\n",
      " [184 184 184 ... 164 164 164]\n",
      " ...\n",
      " [ 71  71  71 ... 195 195 196]\n",
      " [ 71  71  71 ... 196 196 198]\n",
      " [ 72  72  72 ... 197 197 198]]\n"
     ]
    },
    {
     "ename": "ValueError",
     "evalue": "axes don't match array",
     "output_type": "error",
     "traceback": [
      "\u001b[1;31m---------------------------------------------------------------------------\u001b[0m",
      "\u001b[1;31mValueError\u001b[0m                                Traceback (most recent call last)",
      "Cell \u001b[1;32mIn[12], line 34\u001b[0m\n\u001b[0;32m     30\u001b[0m \u001b[39m#cv2.imshow(\"YOLOv8 Inference\", contours)\u001b[39;00m\n\u001b[0;32m     31\u001b[0m \u001b[39m#results = list(results)\u001b[39;00m\n\u001b[0;32m     32\u001b[0m \u001b[39m#annotated_frame = results[0].plot()\u001b[39;00m\n\u001b[0;32m     33\u001b[0m cv2\u001b[39m.\u001b[39mimshow(\u001b[39m\"\u001b[39m\u001b[39mtest\u001b[39m\u001b[39m\"\u001b[39m, frame)\n\u001b[1;32m---> 34\u001b[0m \u001b[39mfor\u001b[39;00m result \u001b[39min\u001b[39;00m results:\n\u001b[0;32m     35\u001b[0m     boxes \u001b[39m=\u001b[39m result\u001b[39m.\u001b[39mboxes  \u001b[39m# Boxes object for bbox outputs\u001b[39;00m\n\u001b[0;32m     36\u001b[0m     masks \u001b[39m=\u001b[39m result\u001b[39m.\u001b[39mmasks  \u001b[39m# Masks object for segmentation masks outputs\u001b[39;00m\n",
      "File \u001b[1;32mc:\\Users\\NJH\\anaconda3\\envs\\six\\Lib\\site-packages\\torch\\utils\\_contextlib.py:35\u001b[0m, in \u001b[0;36m_wrap_generator.<locals>.generator_context\u001b[1;34m(*args, **kwargs)\u001b[0m\n\u001b[0;32m     32\u001b[0m \u001b[39mtry\u001b[39;00m:\n\u001b[0;32m     33\u001b[0m     \u001b[39m# Issuing `None` to a generator fires it up\u001b[39;00m\n\u001b[0;32m     34\u001b[0m     \u001b[39mwith\u001b[39;00m ctx_factory():\n\u001b[1;32m---> 35\u001b[0m         response \u001b[39m=\u001b[39m gen\u001b[39m.\u001b[39;49msend(\u001b[39mNone\u001b[39;49;00m)\n\u001b[0;32m     37\u001b[0m     \u001b[39mwhile\u001b[39;00m \u001b[39mTrue\u001b[39;00m:\n\u001b[0;32m     38\u001b[0m         \u001b[39mtry\u001b[39;00m:\n\u001b[0;32m     39\u001b[0m             \u001b[39m# Forward the response to our caller and get its next request\u001b[39;00m\n",
      "File \u001b[1;32mc:\\Users\\NJH\\anaconda3\\envs\\six\\Lib\\site-packages\\ultralytics\\yolo\\engine\\predictor.py:244\u001b[0m, in \u001b[0;36mBasePredictor.stream_inference\u001b[1;34m(self, source, model)\u001b[0m\n\u001b[0;32m    242\u001b[0m \u001b[39m# Preprocess\u001b[39;00m\n\u001b[0;32m    243\u001b[0m \u001b[39mwith\u001b[39;00m profilers[\u001b[39m0\u001b[39m]:\n\u001b[1;32m--> 244\u001b[0m     im \u001b[39m=\u001b[39m \u001b[39mself\u001b[39;49m\u001b[39m.\u001b[39;49mpreprocess(im0s)\n\u001b[0;32m    246\u001b[0m \u001b[39m# Inference\u001b[39;00m\n\u001b[0;32m    247\u001b[0m \u001b[39mwith\u001b[39;00m profilers[\u001b[39m1\u001b[39m]:\n",
      "File \u001b[1;32mc:\\Users\\NJH\\anaconda3\\envs\\six\\Lib\\site-packages\\ultralytics\\yolo\\engine\\predictor.py:124\u001b[0m, in \u001b[0;36mBasePredictor.preprocess\u001b[1;34m(self, im)\u001b[0m\n\u001b[0;32m    122\u001b[0m \u001b[39mif\u001b[39;00m not_tensor:\n\u001b[0;32m    123\u001b[0m     im \u001b[39m=\u001b[39m np\u001b[39m.\u001b[39mstack(\u001b[39mself\u001b[39m\u001b[39m.\u001b[39mpre_transform(im))\n\u001b[1;32m--> 124\u001b[0m     im \u001b[39m=\u001b[39m im[\u001b[39m.\u001b[39;49m\u001b[39m.\u001b[39;49m\u001b[39m.\u001b[39;49m, ::\u001b[39m-\u001b[39;49m\u001b[39m1\u001b[39;49m]\u001b[39m.\u001b[39;49mtranspose((\u001b[39m0\u001b[39;49m, \u001b[39m3\u001b[39;49m, \u001b[39m1\u001b[39;49m, \u001b[39m2\u001b[39;49m))  \u001b[39m# BGR to RGB, BHWC to BCHW, (n, 3, h, w)\u001b[39;00m\n\u001b[0;32m    125\u001b[0m     im \u001b[39m=\u001b[39m np\u001b[39m.\u001b[39mascontiguousarray(im)  \u001b[39m# contiguous\u001b[39;00m\n\u001b[0;32m    126\u001b[0m     im \u001b[39m=\u001b[39m torch\u001b[39m.\u001b[39mfrom_numpy(im)\n",
      "\u001b[1;31mValueError\u001b[0m: axes don't match array"
     ]
    }
   ],
   "source": [
    "import cv2\n",
    "import numpy as np\n",
    "\n",
    "colors = np.random.uniform(0, 255, size=(len(classes), 3))\n",
    "webcam = cv2.VideoCapture(0)\n",
    "count = 0\n",
    "if not webcam.isOpened():\n",
    "    print(\"Could not open webcam\")\n",
    "    exit()\n",
    "\n",
    "\n",
    "\n",
    "boxes = []\n",
    "masks = [] \n",
    "while webcam.isOpened():\n",
    "    status, frame = webcam.read()\n",
    "    if status:\n",
    "        \n",
    "        frame = ~frame\n",
    "        morph_kernel = np.ones((9, 9), np.uint8)\n",
    "        morph = cv2.morphologyEx(frame, cv2.MORPH_CLOSE, morph_kernel)\n",
    "        gray_frame = cv2.cvtColor(morph, cv2.COLOR_BGR2GRAY)\n",
    "        # # 화면 내 모든 도형 검출\n",
    "        #gray_frame = gray_frame.transpose((2,0,1))\n",
    "        contours, _ = cv2.findContours(gray_frame , cv2.RETR_CCOMP, cv2.CHAIN_APPROX_NONE)\n",
    "        cv2.imshow(\"gray_frame\", gray_frame)\n",
    "        print(gray_frame)\n",
    "\n",
    "        results= model(gray_frame, stream=True)\n",
    "        #cv2.imshow(\"YOLOv8 Inference\", contours)\n",
    "        #results = list(results)\n",
    "        #annotated_frame = results[0].plot()\n",
    "        cv2.imshow(\"test\", frame)\n",
    "        for result in results:\n",
    "            boxes = result.boxes  # Boxes object for bbox outputs\n",
    "            masks = result.masks  # Masks object for segmentation masks outputs\n",
    "            keypoints = result.keypoints  # Keypoints object for pose outputs\n",
    "            probs = result.probs  # Class probabilities for classification outputs\n",
    "            print(boxes)\n",
    "            print(masks)\n",
    "            print(keypoints)\n",
    "            print(probs)\n",
    "        \n",
    "    #     class_ids = []\n",
    "    #     confidences = []\n",
    "    #     bboxes = []\n",
    "    #     for result in results:\n",
    "    #         boxes = result.boxes\n",
    "    #         for box in boxes:\n",
    "    #             confidence = box.conf\n",
    "\n",
    "    #             if confidence > 0.5:\n",
    "    #                 xyxy = []\n",
    "    #                 for i in box.xyxy.tolist()[0]:\n",
    "    #                     xyxy.append(int(i))\n",
    "    #                 bboxes.append(xyxy)\n",
    "    #                 print(type(xyxy[0]))\n",
    "    #                 confidences.append(float(confidence.item()))\n",
    "    #                 class_ids.append(box.cls.tolist()) \n",
    "    #     try:            \n",
    "    #         result_boxes = cv2.dnn.NMSBoxes(bboxes, confidences, 0.5, 0.4, 0.5)\n",
    "\n",
    "    #         print(result_boxes)\n",
    "    #         print(type(confidences))\n",
    "    #         print(bboxes)\n",
    "\n",
    "    #         # print(result_boxes)\n",
    "    #         font = cv2.FONT_HERSHEY_PLAIN\n",
    "    #         depth_list = list()\n",
    "    #         person_id_list = list()\n",
    "    #         for i in range(len(bboxes)):\n",
    "    #             label = str(classes[int(class_ids[i][0])])\n",
    "    #             if label == 'person':\n",
    "    #                 if i in result_boxes:\n",
    "    #                     count += 1 \n",
    "    #                     bbox = list(map(int, bboxes[i])) \n",
    "    #                     x, y, x2, y2 = bbox\n",
    "    #                     color = colors[i]\n",
    "    #                     color = (int(color[0]), int(color[1]), int(color[2]))\n",
    "\n",
    "    #                     cv2.rectangle(frame, (x, y), (x2, y2), color, 2)\n",
    "    #                     cv2.putText(frame, label, (x, y + 30), font, 3, color, 3)\n",
    "\n",
    "    #         cv2.imshow(\"Bgr frame\",frame)\n",
    "    #         print(count)\n",
    "    #     except:\n",
    "    #         pass\n",
    "    if cv2.waitKey(1) & 0xFF == ord('q'):\n",
    "        break\n",
    "    \n",
    "    \n",
    "\n",
    "\n",
    "\n",
    "webcam.release()\n",
    "cv2.destroyAllWindows()"
   ]
  },
  {
   "cell_type": "code",
   "execution_count": null,
   "metadata": {},
   "outputs": [],
   "source": []
  },
  {
   "cell_type": "code",
   "execution_count": 1,
   "metadata": {},
   "outputs": [
    {
     "name": "stdout",
     "output_type": "stream",
     "text": [
      "오류\n"
     ]
    }
   ],
   "source": [
    "try:\n",
    "    for result in results:\n",
    "        boxes = result.boxes  # Boxes object for bbox outputs\n",
    "        masks = result.masks  # Masks object for segmentation masks outputs\n",
    "        keypoints = result.keypoints  # Keypoints object for pose outputs\n",
    "        probs = result.probs  # Class probabilities for classification outputs\n",
    "        print(\"한번\")\n",
    "\n",
    "except:\n",
    "    print(\"오류\")\n",
    "    pass"
   ]
  },
  {
   "cell_type": "code",
   "execution_count": 7,
   "metadata": {},
   "outputs": [
    {
     "name": "stdout",
     "output_type": "stream",
     "text": [
      "<generator object BasePredictor.stream_inference at 0x00000259C2644EE0>\n"
     ]
    }
   ],
   "source": [
    "print(results)"
   ]
  },
  {
   "cell_type": "code",
   "execution_count": 7,
   "metadata": {},
   "outputs": [],
   "source": [
    "detection = model(frame, stream=True)"
   ]
  },
  {
   "cell_type": "code",
   "execution_count": null,
   "metadata": {},
   "outputs": [],
   "source": []
  }
 ],
 "metadata": {
  "kernelspec": {
   "display_name": "six",
   "language": "python",
   "name": "python3"
  },
  "language_info": {
   "codemirror_mode": {
    "name": "ipython",
    "version": 3
   },
   "file_extension": ".py",
   "mimetype": "text/x-python",
   "name": "python",
   "nbconvert_exporter": "python",
   "pygments_lexer": "ipython3",
   "version": "3.11.3"
  },
  "orig_nbformat": 4
 },
 "nbformat": 4,
 "nbformat_minor": 2
}
